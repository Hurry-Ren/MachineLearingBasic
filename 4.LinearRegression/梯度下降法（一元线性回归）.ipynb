{
 "cells": [
  {
   "cell_type": "markdown",
   "metadata": {},
   "source": [
    "## 0.导包"
   ]
  },
  {
   "cell_type": "code",
   "execution_count": 65,
   "metadata": {},
   "outputs": [],
   "source": [
    "import numpy as np\n",
    "import matplotlib.pyplot as plt"
   ]
  },
  {
   "cell_type": "markdown",
   "metadata": {},
   "source": [
    "## 1.导入数据"
   ]
  },
  {
   "cell_type": "code",
   "execution_count": 66,
   "metadata": {},
   "outputs": [],
   "source": [
    "data = np.genfromtxt('data.csv',delimiter = ',')#1为文件路径   2为分隔符\n",
    "x = data[:,0]\n",
    "y = data[:,1]"
   ]
  },
  {
   "cell_type": "code",
   "execution_count": 67,
   "metadata": {},
   "outputs": [
    {
     "data": {
      "image/png": "[encoded data removed]",
      "text/plain": [
       "<Figure size 432x288 with 1 Axes>"
      ]
     },
     "metadata": {
      "needs_background": "light"
     },
     "output_type": "display_data"
    }
   ],
   "source": [
    "plt.scatter(x,y)\n",
    "plt.show()"
   ]
  },
  {
   "cell_type": "markdown",
   "metadata": {},
   "source": [
    "## 2.定义损失函数"
   ]
  },
  {
   "cell_type": "code",
   "execution_count": 68,
   "metadata": {},
   "outputs": [],
   "source": [
    "def compute_cost(w,b,data):\n",
    "    sum_cost = 0\n",
    "    \n",
    "    for i in range(len(data)):\n",
    "        sum_cost += (data[i,1] - w * data[i,0] -b) **2\n",
    "        \n",
    "    return sum_cost / len(data)"
   ]
  },
  {
   "cell_type": "markdown",
   "metadata": {},
   "source": [
    "## 3.定义模型的全局参数（步长alpha，初始值init_w、init_b，迭代次数num_iter）"
   ]
  },
  {
   "cell_type": "code",
   "execution_count": 69,
   "metadata": {},
   "outputs": [],
   "source": [
    "alpha = 0.0001\n",
    "init_w = 0\n",
    "init_b = 0\n",
    "num_iter = 10"
   ]
  },
  {
   "cell_type": "markdown",
   "metadata": {},
   "source": [
    "## 4.定义核心梯度下降算法"
   ]
  },
  {
   "cell_type": "code",
   "execution_count": 70,
   "metadata": {},
   "outputs": [],
   "source": [
    "def grad_desc(alpha, init_w, init_b, num_iter, data):\n",
    "    w = init_w\n",
    "    b = init_b\n",
    "    #定义一个列表保存所有的损失函数值，用来显示下降的过程\n",
    "    cost_list = []\n",
    "    \n",
    "    for i in range(num_iter):\n",
    "        cost_list.append(compute_cost(w, b, data))\n",
    "        w , b = step_grad_desc( w , b , alpha , data )\n",
    "        \n",
    "    return [w,b,cost_list]\n",
    "\n",
    "\n",
    "def step_grad_desc( current_w ,current_b , alpha , data ):\n",
    "    sum_grad_w = 0\n",
    "    sum_grad_b = 0\n",
    "    m = len(data)\n",
    "    \n",
    "    #对每个点带入求和\n",
    "    for i in range(m):\n",
    "        x = data[i,0]\n",
    "        y = data[i,1]\n",
    "        sum_grad_w  += (current_w * x + current_b - y ) * x\n",
    "        sum_grad_b  += (current_w * x + current_b - y )\n",
    "    \n",
    "    #用公式求当前梯度\n",
    "    grad_w = 2/m * sum_grad_w\n",
    "    grad_b = 2/m * sum_grad_b\n",
    "    \n",
    "    #梯度下降，更新当前的w,b\n",
    "    updata_w = current_w - alpha * grad_w\n",
    "    updata_b = current_b - alpha * grad_b\n",
    "    \n",
    "    return updata_w , updata_b"
   ]
  },
  {
   "cell_type": "markdown",
   "metadata": {},
   "source": [
    "## 5.测试：运行梯度下降算法计算最优的w和b"
   ]
  },
  {
   "cell_type": "code",
   "execution_count": 71,
   "metadata": {},
   "outputs": [
    {
     "name": "stdout",
     "output_type": "stream",
     "text": [
      "1.4774173755483797\n",
      "0.02963934787473238\n",
      "112.65585181499748\n"
     ]
    },
    {
     "data": {
      "image/png": "[encoded data removed]",
      "text/plain": [
       "<Figure size 432x288 with 1 Axes>"
      ]
     },
     "metadata": {
      "needs_background": "light"
     },
     "output_type": "display_data"
    }
   ],
   "source": [
    "w,b,cost_list = grad_desc(alpha, init_w, init_b, num_iter, data)\n",
    "print(w)\n",
    "print(b)\n",
    "\n",
    "cost = compute_cost(w,b,data)\n",
    "print(cost)\n",
    "\n",
    "plt.plot(cost_list , c = 'y')\n",
    "plt.show()"
   ]
  },
  {
   "cell_type": "code",
   "execution_count": 72,
   "metadata": {},
   "outputs": [
    {
     "data": {
      "image/png": "[encoded data removed]",
      "text/plain": [
       "<Figure size 432x288 with 1 Axes>"
      ]
     },
     "metadata": {
      "needs_background": "light"
     },
     "output_type": "display_data"
    }
   ],
   "source": [
    "#散点图\n",
    "plt.scatter(data[:,0],data[:,1])\n",
    "\n",
    "#梯度下降的一元线性回归图\n",
    "pred_y = w*data[:,0] + b\n",
    "plt.plot(data[:,0],pred_y,c = 'r')\n",
    "\n",
    "#最小二乘的一元线性回归图\n",
    "w = 1.3224310227553846\n",
    "b = 7.991020982269173\n",
    "plt.plot( data[:,0], w*data[:,0]+b , c = 'y')\n",
    "plt.show()"
   ]
  },
  {
   "cell_type": "code",
   "execution_count": null,
   "metadata": {},
   "outputs": [],
   "source": []
  }
 ],
 "metadata": {
  "kernelspec": {
   "display_name": "Python 3",
   "language": "python",
   "name": "python3"
  },
  "language_info": {
   "codemirror_mode": {
    "name": "ipython",
    "version": 3
   },
   "file_extension": ".py",
   "mimetype": "text/x-python",
   "name": "python",
   "nbconvert_exporter": "python",
   "pygments_lexer": "ipython3",
   "version": "3.6.2"
  }
 },
 "nbformat": 4,
 "nbformat_minor": 2
}
