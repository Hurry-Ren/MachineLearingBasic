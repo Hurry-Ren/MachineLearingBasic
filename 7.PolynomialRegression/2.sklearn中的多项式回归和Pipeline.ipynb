{
 "cells": [
  {
   "cell_type": "code",
   "execution_count": 1,
   "metadata": {},
   "outputs": [],
   "source": [
    "import numpy as np\n",
    "import matplotlib.pyplot as plt\n",
    "\n",
    "x = np.random.uniform(-3, 3, size = 100) #-3到3之间随机取100个值\n",
    "X = x.reshape(-1, 1)\n",
    "y = 0.5 * x**2 + x + 2 +np.random.normal(0, 1, size=100)"
   ]
  },
  {
   "cell_type": "code",
   "execution_count": 2,
   "metadata": {},
   "outputs": [
    {
     "data": {
      "text/plain": [
       "(100, 3)"
      ]
     },
     "execution_count": 2,
     "metadata": {},
     "output_type": "execute_result"
    }
   ],
   "source": [
    "from sklearn.preprocessing import PolynomialFeatures #其实就是对数据预处理，添加x平方的特征\n",
    "poly = PolynomialFeatures(degree=2) # degree：为原本数据集添加多少次幂\n",
    "poly.fit(X)\n",
    "X2 = poly.transform(X)\n",
    "X2.shape"
   ]
  },
  {
   "cell_type": "code",
   "execution_count": 3,
   "metadata": {},
   "outputs": [
    {
     "data": {
      "text/plain": [
       "array([[ 1.        ,  2.16342508,  4.68040808],\n",
       "       [ 1.        ,  2.41852932,  5.84928408],\n",
       "       [ 1.        ,  1.33779006,  1.78968225],\n",
       "       [ 1.        , -1.34152827,  1.7996981 ],\n",
       "       [ 1.        ,  2.12136423,  4.5001862 ]])"
      ]
     },
     "execution_count": 3,
     "metadata": {},
     "output_type": "execute_result"
    }
   ],
   "source": [
    "X2[:5, :] #分别为0次幂、1次幂、2次幂"
   ]
  },
  {
   "cell_type": "code",
   "execution_count": 4,
   "metadata": {},
   "outputs": [
    {
     "data": {
      "text/plain": [
       "array([[ 2.16342508],\n",
       "       [ 2.41852932],\n",
       "       [ 1.33779006],\n",
       "       [-1.34152827],\n",
       "       [ 2.12136423]])"
      ]
     },
     "execution_count": 4,
     "metadata": {},
     "output_type": "execute_result"
    }
   ],
   "source": [
    "X[:5, :]"
   ]
  },
  {
   "cell_type": "code",
   "execution_count": 6,
   "metadata": {},
   "outputs": [],
   "source": [
    "from sklearn.linear_model import LinearRegression\n",
    "lin_reg2 = LinearRegression()\n",
    "lin_reg2.fit(X2, y)\n",
    "y_predict2 = lin_reg2.predict(X2)"
   ]
  },
  {
   "cell_type": "code",
   "execution_count": 7,
   "metadata": {},
   "outputs": [
    {
     "data": {
      "image/png": "[encoded data removed]",
      "text/plain": [
       "<Figure size 432x288 with 1 Axes>"
      ]
     },
     "metadata": {
      "needs_background": "light"
     },
     "output_type": "display_data"
    }
   ],
   "source": [
    "plt.scatter(x, y)\n",
    "plt.plot(np.sort(x), y_predict2[np.argsort(x)],color='r')\n",
    "plt.show()"
   ]
  },
  {
   "cell_type": "code",
   "execution_count": 8,
   "metadata": {},
   "outputs": [
    {
     "data": {
      "text/plain": [
       "array([0.        , 0.96802298, 0.52383612])"
      ]
     },
     "execution_count": 8,
     "metadata": {},
     "output_type": "execute_result"
    }
   ],
   "source": [
    "lin_reg2.coef_ # 0代表对第一列的拟合为0"
   ]
  },
  {
   "cell_type": "code",
   "execution_count": 9,
   "metadata": {},
   "outputs": [
    {
     "data": {
      "text/plain": [
       "2.0644551291622077"
      ]
     },
     "execution_count": 9,
     "metadata": {},
     "output_type": "execute_result"
    }
   ],
   "source": [
    "lin_reg2.intercept_"
   ]
  },
  {
   "cell_type": "markdown",
   "metadata": {},
   "source": [
    "#### 关于PolynomialFeatures"
   ]
  },
  {
   "cell_type": "code",
   "execution_count": 10,
   "metadata": {},
   "outputs": [
    {
     "data": {
      "text/plain": [
       "(5, 2)"
      ]
     },
     "execution_count": 10,
     "metadata": {},
     "output_type": "execute_result"
    }
   ],
   "source": [
    "X = np.arange(1, 11).reshape(-1, 2)\n",
    "X.shape"
   ]
  },
  {
   "cell_type": "code",
   "execution_count": 14,
   "metadata": {},
   "outputs": [
    {
     "name": "stdout",
     "output_type": "stream",
     "text": [
      "(5, 6)\n",
      "[[  1.   1.   2.   1.   2.   4.]\n",
      " [  1.   3.   4.   9.  12.  16.]\n",
      " [  1.   5.   6.  25.  30.  36.]\n",
      " [  1.   7.   8.  49.  56.  64.]\n",
      " [  1.   9.  10.  81.  90. 100.]]\n"
     ]
    }
   ],
   "source": [
    "poly2 = PolynomialFeatures(degree=2)\n",
    "poly2.fit(X)\n",
    "X2 = poly2.transform(X)"
   ]
  },
  {
   "cell_type": "code",
   "execution_count": 15,
   "metadata": {},
   "outputs": [
    {
     "name": "stdout",
     "output_type": "stream",
     "text": [
      "(5, 10)\n",
      "[[   1.    1.    2.    1.    2.    4.    1.    2.    4.    8.]\n",
      " [   1.    3.    4.    9.   12.   16.   27.   36.   48.   64.]\n",
      " [   1.    5.    6.   25.   30.   36.  125.  150.  180.  216.]\n",
      " [   1.    7.    8.   49.   56.   64.  343.  392.  448.  512.]\n",
      " [   1.    9.   10.   81.   90.  100.  729.  810.  900. 1000.]]\n"
     ]
    }
   ],
   "source": [
    "poly2 = PolynomialFeatures(degree=3)\n",
    "poly2.fit(X)\n",
    "X2 = poly2.transform(X)\n",
    "print(X2.shape)\n",
    "print(X2) #相关解读看笔记"
   ]
  },
  {
   "cell_type": "markdown",
   "metadata": {},
   "source": [
    "#### Pipeline管道 （可以将多个步骤组合在一起进行使用）"
   ]
  },
  {
   "cell_type": "code",
   "execution_count": 16,
   "metadata": {},
   "outputs": [],
   "source": [
    "x = np.random.uniform(-3, 3, size = 100) #-3到3之间随机取100个值\n",
    "X = x.reshape(-1, 1)\n",
    "y = 0.5 * x**2 + x + 2 +np.random.normal(0, 1, size=100)"
   ]
  },
  {
   "cell_type": "code",
   "execution_count": 17,
   "metadata": {},
   "outputs": [],
   "source": [
    "from sklearn.pipeline import Pipeline\n",
    "from sklearn.preprocessing import StandardScaler\n",
    "\n",
    "pipeline = Pipeline([ #优化了步骤\n",
    "    (\"PolynomialFeatures\", PolynomialFeatures(degree=2)),\n",
    "    (\"StandardScaler\", StandardScaler()),\n",
    "    (\"LinearRegression\", LinearRegression())\n",
    "])\n",
    "\n",
    "pipeline.fit(X, y)\n",
    "y_predict = pipeline.predict(X)"
   ]
  },
  {
   "cell_type": "code",
   "execution_count": 18,
   "metadata": {},
   "outputs": [
    {
     "data": {
      "image/png": "[encoded data removed]",
      "text/plain": [
       "<Figure size 432x288 with 1 Axes>"
      ]
     },
     "metadata": {
      "needs_background": "light"
     },
     "output_type": "display_data"
    }
   ],
   "source": [
    "plt.scatter(x, y)\n",
    "plt.plot(np.sort(x), y_predict[np.argsort(x)],color='r')\n",
    "plt.show() "
   ]
  },
  {
   "cell_type": "code",
   "execution_count": null,
   "metadata": {},
   "outputs": [],
   "source": []
  }
 ],
 "metadata": {
  "kernelspec": {
   "display_name": "Python 3",
   "language": "python",
   "name": "python3"
  },
  "language_info": {
   "codemirror_mode": {
    "name": "ipython",
    "version": 3
   },
   "file_extension": ".py",
   "mimetype": "text/x-python",
   "name": "python",
   "nbconvert_exporter": "python",
   "pygments_lexer": "ipython3",
   "version": "3.6.2"
  }
 },
 "nbformat": 4,
 "nbformat_minor": 2
}
