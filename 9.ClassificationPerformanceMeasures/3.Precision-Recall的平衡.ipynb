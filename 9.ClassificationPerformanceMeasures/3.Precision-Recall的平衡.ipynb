{
 "cells": [
  {
   "cell_type": "code",
   "execution_count": 1,
   "metadata": {},
   "outputs": [
    {
     "name": "stderr",
     "output_type": "stream",
     "text": [
      "f:\\python\\lib\\site-packages\\sklearn\\linear_model\\logistic.py:432: FutureWarning: Default solver will be changed to 'lbfgs' in 0.22. Specify a solver to silence this warning.\n",
      "  FutureWarning)\n"
     ]
    },
    {
     "name": "stdout",
     "output_type": "stream",
     "text": [
      "[[403   2]\n",
      " [  9  36]]\n",
      "0.9473684210526315\n",
      "0.8\n"
     ]
    }
   ],
   "source": [
    "import numpy as np\n",
    "from sklearn import datasets\n",
    "\n",
    "digits = datasets.load_digits()\n",
    "X = digits.data\n",
    "y = digits.target.copy()\n",
    "\n",
    "y[digits.target == 9] = 1\n",
    "y[digits.target != 9] = 0\n",
    "\n",
    "from sklearn.model_selection import train_test_split\n",
    "X_train, X_test, y_train, y_test = train_test_split(X, y, random_state = 666)\n",
    "\n",
    "from sklearn.linear_model import LogisticRegression\n",
    "log_reg = LogisticRegression()\n",
    "log_reg.fit(X_train, y_train)\n",
    "\n",
    "y_predict = log_reg.predict(X_test)\n",
    "\n",
    "#混淆矩阵\n",
    "from sklearn.metrics import confusion_matrix\n",
    "print(confusion_matrix(y_test, y_predict))\n",
    "\n",
    "#精准率\n",
    "from sklearn.metrics import precision_score\n",
    "print(precision_score(y_test, y_predict))\n",
    "\n",
    "#召回率\n",
    "from sklearn.metrics import recall_score\n",
    "print(recall_score(y_test, y_predict))"
   ]
  },
  {
   "cell_type": "code",
   "execution_count": 6,
   "metadata": {},
   "outputs": [
    {
     "name": "stdout",
     "output_type": "stream",
     "text": [
      "[-22.05693891 -33.02936548 -16.21330861 -80.37912222 -48.2511933\n",
      " -24.5400128  -44.39160831 -25.04291356  -0.97823105 -19.71741038]\n",
      "[0 0 0 0 0 0 0 0 0 0]\n"
     ]
    }
   ],
   "source": [
    "print(log_reg.decision_function(X_test)[:10]) #默认以0为分界线\n",
    "print(log_reg.predict(X_test)[:10]) #由于前10都为负数，因此预测为0"
   ]
  },
  {
   "cell_type": "code",
   "execution_count": 7,
   "metadata": {},
   "outputs": [
    {
     "name": "stdout",
     "output_type": "stream",
     "text": [
      "-85.68606427381654\n",
      "19.889667515433775\n"
     ]
    }
   ],
   "source": [
    "decision_score = log_reg.decision_function(X_test)\n",
    "print(np.min(decision_score))\n",
    "print(np.max(decision_score))"
   ]
  },
  {
   "cell_type": "markdown",
   "metadata": {},
   "source": [
    "#### 改变分类判断的阈值"
   ]
  },
  {
   "cell_type": "code",
   "execution_count": 8,
   "metadata": {},
   "outputs": [],
   "source": [
    "y_predict2 = np.array(decision_score >= 5, dtype = 'int') #设置阈值为5"
   ]
  },
  {
   "cell_type": "code",
   "execution_count": 10,
   "metadata": {},
   "outputs": [
    {
     "name": "stdout",
     "output_type": "stream",
     "text": [
      "[[404   1]\n",
      " [ 21  24]]\n",
      "0.96\n",
      "0.5333333333333333\n"
     ]
    }
   ],
   "source": [
    "#混淆矩阵\n",
    "print(confusion_matrix(y_test, y_predict2))\n",
    "#精准率\n",
    "print(precision_score(y_test, y_predict2))\n",
    "#召回率\n",
    "print(recall_score(y_test, y_predict2))"
   ]
  },
  {
   "cell_type": "code",
   "execution_count": 12,
   "metadata": {},
   "outputs": [
    {
     "name": "stdout",
     "output_type": "stream",
     "text": [
      "[[390  15]\n",
      " [  5  40]]\n",
      "0.7272727272727273\n",
      "0.8888888888888888\n"
     ]
    }
   ],
   "source": [
    " #设置阈值为-5\n",
    "y_predict3 = np.array(decision_score >= -5, dtype = 'int')\n",
    "#混淆矩阵\n",
    "print(confusion_matrix(y_test, y_predict3))\n",
    "#精准率\n",
    "print(precision_score(y_test, y_predict3))\n",
    "#召回率\n",
    "print(recall_score(y_test, y_predict3))"
   ]
  },
  {
   "cell_type": "code",
   "execution_count": null,
   "metadata": {},
   "outputs": [],
   "source": []
  }
 ],
 "metadata": {
  "kernelspec": {
   "display_name": "Python 3",
   "language": "python",
   "name": "python3"
  },
  "language_info": {
   "codemirror_mode": {
    "name": "ipython",
    "version": 3
   },
   "file_extension": ".py",
   "mimetype": "text/x-python",
   "name": "python",
   "nbconvert_exporter": "python",
   "pygments_lexer": "ipython3",
   "version": "3.6.2"
  }
 },
 "nbformat": 4,
 "nbformat_minor": 2
}
