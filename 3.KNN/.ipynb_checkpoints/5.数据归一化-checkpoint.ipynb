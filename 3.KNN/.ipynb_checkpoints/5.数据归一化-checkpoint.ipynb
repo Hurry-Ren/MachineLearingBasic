{
 "cells": [
  {
   "cell_type": "markdown",
   "metadata": {},
   "source": [
    "### 数据归一化 (Feature Scaling) ---作用：将所有的数据映射到统一尺度"
   ]
  },
  {
   "cell_type": "markdown",
   "metadata": {},
   "source": [
    "最值归一化 normalization （方法:把所有数据映射到0-1之间）\n",
    "\n",
    "x_scale = ( x  -  x_min ) / ( x_max  -  x_min )\n",
    "\n",
    "1.适用于分布有明显边界的情况(例如学生分数)  2.受outlier(极端值)影响大(如收入)"
   ]
  },
  {
   "cell_type": "markdown",
   "metadata": {},
   "source": [
    "均值方差归一化 standardization  (方法：把所有数据归一到均值为0，方差为1的分布中)\n",
    "\n",
    "x_scale = ( x - x_mean ) / S   (S为方差)\n",
    "\n",
    "适用：1.数据没有明显边界（有边界也能用）  2.可能存在极端数据值"
   ]
  },
  {
   "cell_type": "markdown",
   "metadata": {},
   "source": [
    "#### 最值归一化 normalization"
   ]
  },
  {
   "cell_type": "code",
   "execution_count": 2,
   "metadata": {},
   "outputs": [],
   "source": [
    "import numpy as np\n",
    "import matplotlib.pyplot as plt"
   ]
  },
  {
   "cell_type": "code",
   "execution_count": 3,
   "metadata": {},
   "outputs": [],
   "source": [
    "x = np.random.randint(0, 100, size = 100)"
   ]
  },
  {
   "cell_type": "code",
   "execution_count": 5,
   "metadata": {},
   "outputs": [
    {
     "data": {
      "text/plain": [
       "array([0.78571429, 0.85714286, 0.13265306, 0.34693878, 0.97959184,\n",
       "       0.18367347, 0.52040816, 0.98979592, 0.54081633, 0.54081633,\n",
       "       0.33673469, 0.79591837, 0.62244898, 0.42857143, 0.85714286,\n",
       "       0.7755102 , 0.06122449, 0.21428571, 0.86734694, 0.82653061,\n",
       "       0.17346939, 0.16326531, 0.73469388, 0.52040816, 1.        ,\n",
       "       0.48979592, 0.63265306, 0.78571429, 0.29591837, 0.06122449,\n",
       "       0.33673469, 0.70408163, 0.15306122, 0.68367347, 0.94897959,\n",
       "       0.71428571, 0.66326531, 0.75510204, 0.21428571, 0.69387755,\n",
       "       0.07142857, 0.82653061, 0.25510204, 0.89795918, 0.        ,\n",
       "       0.85714286, 0.8877551 , 0.43877551, 0.32653061, 1.        ,\n",
       "       0.15306122, 0.91836735, 0.18367347, 0.83673469, 0.90816327,\n",
       "       0.40816327, 0.43877551, 0.54081633, 0.52040816, 0.42857143,\n",
       "       0.64285714, 0.80612245, 0.28571429, 0.28571429, 0.56122449,\n",
       "       0.45918367, 0.41836735, 0.28571429, 0.14285714, 0.74489796,\n",
       "       0.47959184, 0.96938776, 0.02040816, 0.2755102 , 0.20408163,\n",
       "       0.21428571, 0.17346939, 0.78571429, 0.79591837, 0.16326531,\n",
       "       0.36734694, 0.5       , 0.21428571, 0.68367347, 0.80612245,\n",
       "       0.21428571, 0.95918367, 0.90816327, 1.        , 0.89795918,\n",
       "       0.25510204, 0.66326531, 0.37755102, 0.30612245, 0.81632653,\n",
       "       0.43877551, 0.44897959, 0.62244898, 0.70408163, 0.68367347])"
      ]
     },
     "execution_count": 5,
     "metadata": {},
     "output_type": "execute_result"
    }
   ],
   "source": [
    "(x - np.min(x)) / (np.max(x) - np.min(x))"
   ]
  },
  {
   "cell_type": "code",
   "execution_count": 7,
   "metadata": {},
   "outputs": [],
   "source": [
    "X = np.random.randint(0, 100, (50, 2))"
   ]
  },
  {
   "cell_type": "code",
   "execution_count": 8,
   "metadata": {},
   "outputs": [
    {
     "data": {
      "text/plain": [
       "array([[74., 15.],\n",
       "       [65., 32.],\n",
       "       [13., 82.],\n",
       "       [ 6.,  6.],\n",
       "       [14., 12.],\n",
       "       [86., 80.],\n",
       "       [70., 34.],\n",
       "       [ 7., 12.],\n",
       "       [68., 69.],\n",
       "       [89.,  3.]])"
      ]
     },
     "execution_count": 8,
     "metadata": {},
     "output_type": "execute_result"
    }
   ],
   "source": [
    "X = np.array(X, dtype = float) #转换成和x相同类型\n",
    "X[:10, :]"
   ]
  },
  {
   "cell_type": "code",
   "execution_count": 9,
   "metadata": {},
   "outputs": [],
   "source": [
    "X[:, 0] = (X[:, 0] - np.min(X[:, 0]))  / (np.max(X[:, 0]) - np.min(X[:, 0]))\n",
    "X[:, 1] = (X[:, 1] - np.min(X[:, 1]))  / (np.max(X[:, 1]) - np.min(X[:, 1]))"
   ]
  },
  {
   "cell_type": "code",
   "execution_count": 11,
   "metadata": {},
   "outputs": [
    {
     "data": {
      "text/plain": [
       "array([[0.75257732, 0.15957447],\n",
       "       [0.65979381, 0.34042553],\n",
       "       [0.12371134, 0.87234043],\n",
       "       [0.05154639, 0.06382979],\n",
       "       [0.13402062, 0.12765957],\n",
       "       [0.87628866, 0.85106383],\n",
       "       [0.71134021, 0.36170213],\n",
       "       [0.06185567, 0.12765957],\n",
       "       [0.69072165, 0.73404255],\n",
       "       [0.90721649, 0.03191489]])"
      ]
     },
     "execution_count": 11,
     "metadata": {},
     "output_type": "execute_result"
    }
   ],
   "source": [
    "X[:10, ]"
   ]
  },
  {
   "cell_type": "code",
   "execution_count": 12,
   "metadata": {},
   "outputs": [
    {
     "name": "stdout",
     "output_type": "stream",
     "text": [
      "0.4868041237113402\n",
      "0.2973099359286754\n",
      "0.44361702127659575\n",
      "0.3171515511281298\n"
     ]
    }
   ],
   "source": [
    "print(np.mean(X[:, 0]))\n",
    "print(np.std(X[:, 0])) #方差\n",
    "print(np.mean(X[:, 1]))\n",
    "print(np.std(X[:, 1]))"
   ]
  },
  {
   "cell_type": "code",
   "execution_count": 16,
   "metadata": {},
   "outputs": [
    {
     "data": {
      "image/png": "[encoded data removed]",
      "text/plain": [
       "<Figure size 432x288 with 1 Axes>"
      ]
     },
     "metadata": {
      "needs_background": "light"
     },
     "output_type": "display_data"
    }
   ],
   "source": [
    "plt.scatter(X[:, 0], X[:, 1])\n",
    "plt.show()"
   ]
  },
  {
   "cell_type": "markdown",
   "metadata": {},
   "source": [
    "#### 均值方差归一化 standardization"
   ]
  },
  {
   "cell_type": "code",
   "execution_count": 14,
   "metadata": {},
   "outputs": [],
   "source": [
    "X2 = np.random.randint(0, 100, (50, 2))\n",
    "X2 = np.array(X2, dtype = float)\n",
    "\n",
    "X2[:, 0] = (X2[:, 0] - np.mean(X2[:, 0])) / np.std(X2[:, 0])\n",
    "X2[:, 1] = (X2[:, 1] - np.mean(X2[:, 1])) / np.std(X2[:, 1])"
   ]
  },
  {
   "cell_type": "code",
   "execution_count": 15,
   "metadata": {},
   "outputs": [
    {
     "name": "stdout",
     "output_type": "stream",
     "text": [
      "-3.7747582837255325e-17\n",
      "0.9999999999999999\n"
     ]
    }
   ],
   "source": [
    "print(np.mean(X2[:, 0])) #均值无限接近0\n",
    "print(np.std(X2[:, 0])) #方差基本为1"
   ]
  },
  {
   "cell_type": "code",
   "execution_count": 17,
   "metadata": {},
   "outputs": [
    {
     "data": {
      "image/png": "[encoded data removed]",
      "text/plain": [
       "<Figure size 432x288 with 1 Axes>"
      ]
     },
     "metadata": {
      "needs_background": "light"
     },
     "output_type": "display_data"
    }
   ],
   "source": [
    "plt.scatter(X2[:, 0], X2[:, 1])\n",
    "plt.show()"
   ]
  },
  {
   "cell_type": "markdown",
   "metadata": {},
   "source": [
    "总结：最值归一化和均值方差归一化两者相比，\n",
    "        最值归一化将数据的均值放在了0处，适合有明显界限，但极端值对数据影响大;\n",
    "        均值方差归一化将数据的均值放在了0处，分布幅度（方差）放在1，并且对极端值不是特别敏感"
   ]
  },
  {
   "cell_type": "code",
   "execution_count": null,
   "metadata": {},
   "outputs": [],
   "source": []
  }
 ],
 "metadata": {
  "kernelspec": {
   "display_name": "Python 3",
   "language": "python",
   "name": "python3"
  },
  "language_info": {
   "codemirror_mode": {
    "name": "ipython",
    "version": 3
   },
   "file_extension": ".py",
   "mimetype": "text/x-python",
   "name": "python",
   "nbconvert_exporter": "python",
   "pygments_lexer": "ipython3",
   "version": "3.6.2"
  }
 },
 "nbformat": 4,
 "nbformat_minor": 2
}
